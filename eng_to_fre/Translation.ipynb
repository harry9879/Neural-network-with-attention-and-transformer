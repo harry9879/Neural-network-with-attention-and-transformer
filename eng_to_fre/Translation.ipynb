{
  "cells": [
    {
      "cell_type": "markdown",
      "metadata": {
        "id": "view-in-github",
        "colab_type": "text"
      },
      "source": [
        "<a href=\"https://colab.research.google.com/github/harry9879/Neural-network-with-attention-and-transformer/blob/main/eng_to_fre/Translation.ipynb\" target=\"_parent\"><img src=\"https://colab.research.google.com/assets/colab-badge.svg\" alt=\"Open In Colab\"/></a>"
      ]
    },
    {
      "cell_type": "code",
      "execution_count": null,
      "metadata": {
        "id": "UBPAz7bpCR-2",
        "colab": {
          "base_uri": "https://localhost:8080/"
        },
        "outputId": "99933340-7d64-4a4b-f156-eba1be79f20f"
      },
      "outputs": [
        {
          "output_type": "stream",
          "name": "stdout",
          "text": [
            "Looking in indexes: https://pypi.org/simple, https://us-python.pkg.dev/colab-wheels/public/simple/\n",
            "Collecting einops\n",
            "  Downloading einops-0.6.1-py3-none-any.whl (42 kB)\n",
            "\u001b[2K     \u001b[90m━━━━━━━━━━━━━━━━━━━━━━━━━━━━━━━━━━━━━━━━\u001b[0m \u001b[32m42.2/42.2 kB\u001b[0m \u001b[31m2.5 MB/s\u001b[0m eta \u001b[36m0:00:00\u001b[0m\n",
            "\u001b[?25hInstalling collected packages: einops\n",
            "Successfully installed einops-0.6.1\n"
          ]
        }
      ],
      "source": [
        "pip install einops"
      ]
    },
    {
      "cell_type": "code",
      "source": [
        "pip install tensorflow_text"
      ],
      "metadata": {
        "id": "0XCbnHvnCcXf",
        "colab": {
          "base_uri": "https://localhost:8080/"
        },
        "outputId": "9f574dc0-10bb-468f-e23c-bf9844071809"
      },
      "execution_count": null,
      "outputs": [
        {
          "output_type": "stream",
          "name": "stdout",
          "text": [
            "Installing collected packages: tensorflow_text\n",
            "Successfully installed tensorflow_text-2.12.1\n"
          ]
        }
      ]
    },
    {
      "cell_type": "code",
      "execution_count": null,
      "metadata": {
        "id": "MDAiAMv4CR-5"
      },
      "outputs": [],
      "source": [
        "import numpy as np\n",
        "import pandas as pd\n",
        "import tensorflow as tf"
      ]
    },
    {
      "cell_type": "code",
      "execution_count": null,
      "metadata": {
        "id": "_cW_Jr5OCR-5"
      },
      "outputs": [],
      "source": [
        "import matplotlib.pyplot as plt\n",
        "import einops"
      ]
    },
    {
      "cell_type": "code",
      "source": [
        "import tensorflow_text as tf_text"
      ],
      "metadata": {
        "id": "RqCyazsJfLxH"
      },
      "execution_count": null,
      "outputs": []
    },
    {
      "cell_type": "code",
      "source": [
        "dataset = pd.read_csv('small_file_0.csv')"
      ],
      "metadata": {
        "id": "XrenAv6ZdgDg"
      },
      "execution_count": null,
      "outputs": []
    },
    {
      "cell_type": "code",
      "execution_count": null,
      "metadata": {
        "id": "QB3HDzGCCR-6"
      },
      "outputs": [],
      "source": [
        "class ShapeChecker():\n",
        "  def __init__(self):\n",
        "    # Keep a cache of every axis-name seen\n",
        "    self.shapes = {}\n",
        "\n",
        "  def __call__(self, tensor, names, broadcast=False):\n",
        "    if not tf.executing_eagerly():\n",
        "      return\n",
        "\n",
        "    parsed = einops.parse_shape(tensor, names)\n",
        "\n",
        "    for name, new_dim in parsed.items():\n",
        "      old_dim = self.shapes.get(name, None)\n",
        "\n",
        "      if (broadcast and new_dim == 1):\n",
        "        continue\n",
        "\n",
        "      if old_dim is None:\n",
        "        # If the axis name is new, add its length to the cache.\n",
        "        self.shapes[name] = new_dim\n",
        "        continue\n",
        "\n",
        "      if new_dim != old_dim:\n",
        "        raise ValueError(f\"Shape mismatch for dimension: '{name}'\\n\"\n",
        "                         f\"    found: {new_dim}\\n\"\n",
        "                         f\"    expected: {old_dim}\\n\")"
      ]
    },
    {
      "cell_type": "code",
      "execution_count": null,
      "metadata": {
        "id": "b6MAhBL8CR-6"
      },
      "outputs": [],
      "source": [
        "eng_dataset = dataset['en'].to_numpy()\n",
        "fre_dataset = dataset['fr'].to_numpy()"
      ]
    },
    {
      "cell_type": "code",
      "execution_count": null,
      "metadata": {
        "id": "BOZy-UMXCR-7"
      },
      "outputs": [],
      "source": [
        "eng_dataset = [str(data).encode() for data in eng_dataset]\n",
        "fre_dataset = [str(data).encode() for data in fre_dataset]"
      ]
    },
    {
      "cell_type": "code",
      "execution_count": null,
      "metadata": {
        "id": "kFMzXASsCR-7"
      },
      "outputs": [],
      "source": [
        "eng_dataset = tf.constant(eng_dataset)\n",
        "fre_dataset = tf.constant(fre_dataset)"
      ]
    },
    {
      "cell_type": "code",
      "execution_count": null,
      "metadata": {
        "id": "apLvVHpfCR-7"
      },
      "outputs": [],
      "source": [
        "BATCH_SIZE = 64\n",
        "BUFFER_SIZE = 10000\n",
        "\n",
        "dataset_size = len(dataset)\n",
        "\n",
        "train_size = int(0.8 * dataset_size)\n",
        "val_size = dataset_size - train_size\n"
      ]
    },
    {
      "cell_type": "code",
      "execution_count": null,
      "metadata": {
        "id": "jS4CSd1XCR-8"
      },
      "outputs": [],
      "source": [
        "BUFFER_SIZE = len(fre_dataset)\n",
        "BATCH_SIZE = 64\n",
        "\n",
        "is_train = np.random.uniform(size=(len(eng_dataset),)) < 0.8\n",
        "\n",
        "train_raw = (\n",
        "    tf.data.Dataset\n",
        "    .from_tensor_slices((fre_dataset[is_train], eng_dataset[is_train]))\n",
        "    .shuffle(BUFFER_SIZE)\n",
        "    .batch(BATCH_SIZE))\n",
        "val_raw = (\n",
        "    tf.data.Dataset\n",
        "    .from_tensor_slices((fre_dataset[~is_train], eng_dataset[~is_train]))\n",
        "    .shuffle(BUFFER_SIZE)\n",
        "    .batch(BATCH_SIZE))\n"
      ]
    },
    {
      "cell_type": "code",
      "execution_count": null,
      "metadata": {
        "id": "3VFRg-NNCR-9"
      },
      "outputs": [],
      "source": [
        "def tf_lower_and_split_punct(text):\n",
        "    \n",
        "  text = tf_text.normalize_utf8(text, 'NFKD')\n",
        "  \n",
        "  text = tf.strings.lower(text)\n",
        "\n",
        "  text = tf.strings.regex_replace(text, '[^ a-z.?!,¿]', '')\n",
        "\n",
        "  text = tf.strings.regex_replace(text, '[.?!,¿]', r' \\0 ')\n",
        "\n",
        "  text = tf.strings.strip(text)\n",
        "\n",
        "  text = tf.strings.join(['[START]', text, '[END]'], separator=' ')\n",
        "  return text"
      ]
    },
    {
      "cell_type": "code",
      "execution_count": null,
      "metadata": {
        "id": "PsiL8Al5CR--"
      },
      "outputs": [],
      "source": [
        "max_vocab_size = 10000\n",
        "\n",
        "context_text_processor = tf.keras.layers.TextVectorization(\n",
        "    standardize= tf_lower_and_split_punct,\n",
        "    max_tokens = max_vocab_size,\n",
        "    ragged = True\n",
        ")"
      ]
    },
    {
      "cell_type": "code",
      "execution_count": null,
      "metadata": {
        "id": "FJZQ82WVCR--",
        "outputId": "f80fbb95-9628-4aa6-871b-fdbf58e015ab",
        "colab": {
          "base_uri": "https://localhost:8080/"
        }
      },
      "outputs": [
        {
          "output_type": "execute_result",
          "data": {
            "text/plain": [
              "['', '[UNK]', 'de', ',', '.', '[START]', '[END]', 'et', 'la', 'les']"
            ]
          },
          "metadata": {},
          "execution_count": 36
        }
      ],
      "source": [
        "context_text_processor.adapt(train_raw.map(lambda x,y : x))\n",
        "context_text_processor.get_vocabulary()[:10]"
      ]
    },
    {
      "cell_type": "code",
      "execution_count": null,
      "metadata": {
        "id": "dyzEe5QDCR--",
        "outputId": "392e4532-3d4d-431c-916c-cd7c79811174",
        "colab": {
          "base_uri": "https://localhost:8080/"
        }
      },
      "outputs": [
        {
          "output_type": "execute_result",
          "data": {
            "text/plain": [
              "['', '[UNK]', '.', ',', '[START]', '[END]', 'the', 'and', 'of', 'in']"
            ]
          },
          "metadata": {},
          "execution_count": 37
        }
      ],
      "source": [
        "target_text_processor = tf.keras.layers.TextVectorization(\n",
        "    standardize=tf_lower_and_split_punct,\n",
        "    max_tokens=max_vocab_size,\n",
        "    ragged=True)\n",
        "\n",
        "target_text_processor.adapt(train_raw.map(lambda x,y: y))\n",
        "target_text_processor.get_vocabulary()[:10]"
      ]
    },
    {
      "cell_type": "code",
      "execution_count": null,
      "metadata": {
        "id": "dKqWWnt3CR-_",
        "outputId": "c962b9c2-2098-4ada-e38f-950d258a884d",
        "colab": {
          "base_uri": "https://localhost:8080/"
        }
      },
      "outputs": [
        {
          "output_type": "execute_result",
          "data": {
            "text/plain": [
              "['', '[UNK]', 'de', ',', '.', '[START]', '[END]', 'et', 'la', 'les']"
            ]
          },
          "metadata": {},
          "execution_count": 38
        }
      ],
      "source": [
        "context_text_processor.adapt(train_raw.map(lambda x,y : x))\n",
        "context_text_processor.get_vocabulary()[:10]"
      ]
    },
    {
      "cell_type": "code",
      "execution_count": null,
      "metadata": {
        "id": "i8vw07meCR-_"
      },
      "outputs": [],
      "source": [
        "example_sentence = tf.constant(['Ce groupe est coprésidé par le ministre du Commerce international et le vice-premier ministre russe responsable de l’économie.'])"
      ]
    },
    {
      "cell_type": "code",
      "execution_count": null,
      "metadata": {
        "id": "USa2xBBFCR_A"
      },
      "outputs": [],
      "source": [
        "example_tokens = context_text_processor(example_sentence)"
      ]
    },
    {
      "cell_type": "code",
      "execution_count": null,
      "metadata": {
        "id": "4JgFHLP5CR_B"
      },
      "outputs": [],
      "source": [
        "def process_text(context, target):\n",
        "    context = context_text_processor(context).to_tensor()\n",
        "    target = target_text_processor(target)\n",
        "    targ_in = target[:, :-1].to_tensor()\n",
        "    targ_out = target[:, 1:].to_tensor()\n",
        "    return (context, targ_in), targ_out\n",
        "\n",
        "train_ds =  train_raw.map(process_text, tf.data.AUTOTUNE)\n",
        "val_ds = val_raw.map(process_text, tf.data.AUTOTUNE)"
      ]
    },
    {
      "cell_type": "code",
      "execution_count": null,
      "metadata": {
        "id": "1zw2YRo1CR_B",
        "outputId": "45e5b82f-b293-4d2d-baba-030fe155f418",
        "colab": {
          "base_uri": "https://localhost:8080/"
        }
      },
      "outputs": [
        {
          "output_type": "stream",
          "name": "stdout",
          "text": [
            "[   5   59  114  334    2  374   21 1774    7  906]\n",
            "\n",
            "[   4   48   19 1382    7  220   10    6 9921   14]\n",
            "[  48   19 1382    7  220   10    6 9921   14  461]\n"
          ]
        }
      ],
      "source": [
        "for (ex_context_tok , ex_tar_in), ex_tar_out in train_ds.take(1):\n",
        "    print(ex_context_tok[0,:10].numpy())\n",
        "    print()\n",
        "    print(ex_tar_in[0,:10].numpy())\n",
        "    print(ex_tar_out[0,:10].numpy())"
      ]
    },
    {
      "cell_type": "code",
      "execution_count": null,
      "metadata": {
        "id": "sZDybHtjCR_B"
      },
      "outputs": [],
      "source": [
        "UNITS = 256"
      ]
    },
    {
      "cell_type": "code",
      "execution_count": null,
      "metadata": {
        "id": "rH45BVuNCR_C"
      },
      "outputs": [],
      "source": [
        "class Encoder(tf.keras.layers.Layer):\n",
        "    def __init__(self, text_processor, units):\n",
        "        super(Encoder, self).__init__()\n",
        "        self.text_processor = text_processor\n",
        "        self.vocab_size = text_processor.vocabulary_size()\n",
        "        self.units = units\n",
        "        \n",
        "        self.embedding = tf.keras.layers.Embedding(self.vocab_size, units, mask_zero = True)\n",
        "        \n",
        "        self.rnn = tf.keras.layers.Bidirectional(\n",
        "            merge_mode='sum',\n",
        "            layer =tf.keras.layers.GRU(units,\n",
        "                                       return_sequences=True,\n",
        "                                       recurrent_initializer='glorot_uniform'))\n",
        "    def call(self,x):\n",
        "        shape_checker = ShapeChecker()\n",
        "        shape_checker(x, 'batch s')\n",
        "        \n",
        "        x = self.embedding(x)\n",
        "        shape_checker(x, 'batch s units')\n",
        "        \n",
        "        x = self.rnn(x)\n",
        "        shape_checker(x, 'batch s units')\n",
        "        \n",
        "        return x\n",
        "    \n",
        "    def convert_input(self, texts):\n",
        "        texts = tf.convert_to_tensor(texts)\n",
        "        if len(texts.shape) == 0:\n",
        "            texts = tf.convert_to_tensor(texts)[tf.newaxis]\n",
        "        context = self.text_processor(texts).to_tensor()\n",
        "        context = self(context)\n",
        "        \n",
        "        return context"
      ]
    },
    {
      "cell_type": "code",
      "execution_count": null,
      "metadata": {
        "id": "HSEDKE8KCR_C",
        "outputId": "507d28ab-33d2-4d0c-ee7c-104c820f6e9d",
        "colab": {
          "base_uri": "https://localhost:8080/"
        }
      },
      "outputs": [
        {
          "output_type": "stream",
          "name": "stdout",
          "text": [
            "Context tokens, shape (batch, s): (64, 74)\n",
            "Context tokens, shape (batch, s, unit): (64, 74, 256)\n"
          ]
        }
      ],
      "source": [
        "encoder = Encoder(context_text_processor, UNITS)\n",
        "ex_context  = encoder(ex_context_tok)\n",
        "print(f'Context tokens, shape (batch, s): {ex_context_tok.shape}')\n",
        "print(f'Context tokens, shape (batch, s, unit): {ex_context.shape}')"
      ]
    },
    {
      "cell_type": "code",
      "execution_count": null,
      "metadata": {
        "id": "f7loUJoRCR_D",
        "outputId": "afd2a3a0-d337-4554-f60a-e985420e944d",
        "colab": {
          "base_uri": "https://localhost:8080/"
        }
      },
      "outputs": [
        {
          "output_type": "execute_result",
          "data": {
            "text/plain": [
              "<tf.Tensor: shape=(74,), dtype=int64, numpy=\n",
              "array([   5, 1048,  339,    1,   22,   18,   13,   53,  715,    7,    2,\n",
              "        725,    3,  103,  547,  130,    1,   26,    2,    8,  144,  467,\n",
              "          4,    6,    0,    0,    0,    0,    0,    0,    0,    0,    0,\n",
              "          0,    0,    0,    0,    0,    0,    0,    0,    0,    0,    0,\n",
              "          0,    0,    0,    0,    0,    0,    0,    0,    0,    0,    0,\n",
              "          0,    0,    0,    0,    0,    0,    0,    0,    0,    0,    0,\n",
              "          0,    0,    0,    0,    0,    0,    0,    0])>"
            ]
          },
          "metadata": {},
          "execution_count": 46
        }
      ],
      "source": [
        "ex_context_tok[1]"
      ]
    },
    {
      "cell_type": "code",
      "execution_count": null,
      "metadata": {
        "id": "xL6UuzVHCR_D"
      },
      "outputs": [],
      "source": [
        "class CrossAttention(tf.keras.layers.Layer):\n",
        "    def __init__(self, units, **kwargs):\n",
        "        super().__init__()\n",
        "        self.mha = tf.keras.layers.MultiHeadAttention(key_dim = units , num_heads=1, **kwargs)\n",
        "        self.layernorm = tf.keras.layers.LayerNormalization()\n",
        "        self.add = tf.keras.layers.Add()\n",
        "    \n",
        "    def call(self, x, context):\n",
        "        shape_checker = ShapeChecker()\n",
        "        \n",
        "        shape_checker(x, 'batch t units')\n",
        "        shape_checker(context, 'batch s units')\n",
        "        \n",
        "        attn_output, attn_scores = self.mha(\n",
        "            query = x,\n",
        "            value = context,\n",
        "            return_attention_scores = True\n",
        "        )\n",
        "        shape_checker(x, 'batch t units')\n",
        "        shape_checker(attn_scores, 'batch heads t s' )\n",
        "        \n",
        "        #Cache the attention scores for plotting later.\n",
        "        attn_scores = tf.reduce_mean(attn_scores, axis = 1)\n",
        "        shape_checker(attn_scores, 'batch t s')\n",
        "        self.last_attention_weights = attn_scores\n",
        "        \n",
        "        x = self.add([x, attn_output])\n",
        "        x = self.layernorm(x)\n",
        "        \n",
        "        return x      "
      ]
    },
    {
      "cell_type": "code",
      "execution_count": null,
      "metadata": {
        "id": "UdfX6yQFCR_D",
        "outputId": "7e35bc77-c024-40fe-ae59-ed0d0977b367",
        "colab": {
          "base_uri": "https://localhost:8080/"
        }
      },
      "outputs": [
        {
          "output_type": "stream",
          "name": "stdout",
          "text": [
            "Context sequence, shape (batch, s, units): (64, 74, 256)\n",
            "Target sequence, shape (batch, t, units): (64, 49, 256)\n",
            "Attention result, shape (batch, t, units): (64, 49, 256)\n",
            "Attention weights, shape (batch, t, s):    (64, 49, 74)\n"
          ]
        }
      ],
      "source": [
        "attention_layer = CrossAttention(UNITS)\n",
        "\n",
        "embed = tf.keras.layers.Embedding(target_text_processor.vocabulary_size(), output_dim=UNITS, mask_zero = True)\n",
        "\n",
        "ex_tar_embed = embed(ex_tar_in)\n",
        "\n",
        "result = attention_layer(ex_tar_embed, ex_context)\n",
        "\n",
        "print(f'Context sequence, shape (batch, s, units): {ex_context.shape}')\n",
        "print(f'Target sequence, shape (batch, t, units): {ex_tar_embed.shape}')\n",
        "print(f'Attention result, shape (batch, t, units): {result.shape}')\n",
        "print(f'Attention weights, shape (batch, t, s):    {attention_layer.last_attention_weights.shape}')"
      ]
    },
    {
      "cell_type": "code",
      "execution_count": null,
      "metadata": {
        "id": "GMWxhqBtCR_E",
        "colab": {
          "base_uri": "https://localhost:8080/"
        },
        "outputId": "4c2d5cb4-f892-423c-c765-98ddfd5e1bd6"
      },
      "outputs": [
        {
          "output_type": "execute_result",
          "data": {
            "text/plain": [
              "array([1.        , 1.        , 1.        , 0.99999994, 0.99999994,\n",
              "       1.        , 1.        , 1.        , 1.        , 1.        ,\n",
              "       1.        , 1.        , 1.        , 1.        , 1.        ,\n",
              "       0.99999994, 1.        , 0.99999994, 1.0000001 , 1.        ,\n",
              "       1.0000001 , 1.        , 1.0000001 , 1.        , 1.        ,\n",
              "       1.        , 1.        , 1.        , 1.        , 1.        ,\n",
              "       1.        , 1.        , 1.        , 1.        , 1.        ,\n",
              "       1.        , 1.        , 1.        , 1.        , 1.        ,\n",
              "       1.        , 1.        , 1.        , 1.        , 1.        ,\n",
              "       1.        , 1.        , 1.        , 1.        ], dtype=float32)"
            ]
          },
          "metadata": {},
          "execution_count": 49
        }
      ],
      "source": [
        "attention_layer.last_attention_weights[0].numpy().sum(axis=-1)"
      ]
    },
    {
      "cell_type": "code",
      "execution_count": null,
      "metadata": {
        "id": "E39t6E35CR_E",
        "outputId": "cb28f1f4-86fb-49d6-ac7d-e9dde1da1227",
        "colab": {
          "base_uri": "https://localhost:8080/",
          "height": 452
        }
      },
      "outputs": [
        {
          "output_type": "display_data",
          "data": {
            "text/plain": [
              "<Figure size 640x480 with 2 Axes>"
            ],
            "image/png": "[encoded data removed]"
          },
          "metadata": {}
        }
      ],
      "source": [
        "attention_weights = attention_layer.last_attention_weights\n",
        "mask=(ex_context_tok != 0).numpy()\n",
        "\n",
        "plt.subplot(1, 2, 1)\n",
        "plt.pcolormesh(mask*attention_weights[:, 0, :])\n",
        "plt.title('Attention weights')\n",
        "\n",
        "plt.subplot(1, 2, 2)\n",
        "plt.pcolormesh(mask)\n",
        "plt.title('Mask');"
      ]
    },
    {
      "cell_type": "code",
      "execution_count": null,
      "metadata": {
        "id": "_rt9O-aRCR_E"
      },
      "outputs": [],
      "source": [
        "class Decoder(tf.keras.layers.Layer):\n",
        "  @classmethod\n",
        "  def add_method(cls, fun):\n",
        "    setattr(cls, fun.__name__, fun)\n",
        "    return fun\n",
        "\n",
        "  def __init__(self, text_processor, units):\n",
        "    super(Decoder, self).__init__()\n",
        "    self.text_processor = text_processor\n",
        "    self.vocab_size = text_processor.vocabulary_size()\n",
        "    self.word_to_id = tf.keras.layers.StringLookup(\n",
        "        vocabulary=text_processor.get_vocabulary(),\n",
        "        mask_token='', oov_token='[UNK]')\n",
        "    self.id_to_word = tf.keras.layers.StringLookup(\n",
        "        vocabulary=text_processor.get_vocabulary(),\n",
        "        mask_token='', oov_token='[UNK]',\n",
        "        invert=True)\n",
        "    self.start_token = self.word_to_id('[START]')\n",
        "    self.end_token = self.word_to_id('[END]')\n",
        "\n",
        "    self.units = units\n",
        "\n",
        "\n",
        " \n",
        "    self.embedding = tf.keras.layers.Embedding(self.vocab_size,\n",
        "                                               units, mask_zero=True)\n",
        "\n",
        "\n",
        "    self.rnn = tf.keras.layers.GRU(units,\n",
        "                                   return_sequences=True,\n",
        "                                   return_state=True,\n",
        "                                   recurrent_initializer='glorot_uniform')\n",
        "\n",
        "    # 3. The RNN output will be the query for the attention layer.\n",
        "    self.attention = CrossAttention(units)\n",
        "\n",
        " \n",
        "    self.output_layer = tf.keras.layers.Dense(self.vocab_size)"
      ]
    },
    {
      "cell_type": "code",
      "execution_count": null,
      "metadata": {
        "id": "tyMN_TzkCR_F"
      },
      "outputs": [],
      "source": [
        "@Decoder.add_method\n",
        "def call(self,\n",
        "         context, x,\n",
        "         state = None,\n",
        "         return_state = False):\n",
        "    shape_checker = ShapeChecker()\n",
        "    shape_checker(x, 'batch t')\n",
        "    shape_checker(context, 'batch s units')\n",
        "    \n",
        "    # 1. Lookup the embeddings\n",
        "    x = self.embedding(x)\n",
        "    shape_checker(x, 'batch t units')\n",
        "    \n",
        "    x, state = self.rnn(x, initial_state=state)\n",
        "    shape_checker(x, 'batch t units')\n",
        "    \n",
        "    x = self.attention(x, context)\n",
        "    self.last_attention_weights = self.attention.last_attention_weights\n",
        "    shape_checker(x, 'batch t units')\n",
        "    \n",
        "    x = self.attention(x, context)\n",
        "    self.last_attention_weights = self.attention.last_attention_weights\n",
        "    shape_checker(x, 'batch t units')\n",
        "    shape_checker(self.last_attention_weights, 'batch t s')\n",
        "    \n",
        "    logits = self.output_layer(x)\n",
        "    shape_checker(logits, 'batch t target_vocab_size')\n",
        "    \n",
        "    if return_state:\n",
        "        return logits, state\n",
        "    else:\n",
        "        return logits"
      ]
    },
    {
      "cell_type": "code",
      "execution_count": null,
      "metadata": {
        "id": "Ofdjbn7ACR_F"
      },
      "outputs": [],
      "source": [
        "decoder = Decoder(target_text_processor, UNITS)"
      ]
    },
    {
      "cell_type": "code",
      "execution_count": null,
      "metadata": {
        "id": "dXNeXL0bCR_F",
        "outputId": "c78f7c45-a6a2-492a-c422-4924c6ba36fd",
        "colab": {
          "base_uri": "https://localhost:8080/"
        }
      },
      "outputs": [
        {
          "output_type": "stream",
          "name": "stdout",
          "text": [
            "encoder output shape: (batch, s, units) (64, 74, 256)\n",
            "input target tokens shape: (batch, t) (64, 49)\n",
            "logits shape shape: (batch, target_vocabulary_size) (64, 49, 10000)\n"
          ]
        }
      ],
      "source": [
        "logits = decoder(ex_context, ex_tar_in)\n",
        "\n",
        "print(f'encoder output shape: (batch, s, units) {ex_context.shape}')\n",
        "print(f'input target tokens shape: (batch, t) {ex_tar_in.shape}')\n",
        "print(f'logits shape shape: (batch, target_vocabulary_size) {logits.shape}')"
      ]
    },
    {
      "cell_type": "code",
      "execution_count": null,
      "metadata": {
        "id": "ECDYZfDnCR_G"
      },
      "outputs": [],
      "source": [
        "@Decoder.add_method\n",
        "def get_initial_state(self, context):\n",
        "  batch_size = tf.shape(context)[0]\n",
        "  start_tokens = tf.fill([batch_size, 1], self.start_token)\n",
        "  done = tf.zeros([batch_size, 1], dtype=tf.bool)\n",
        "  embedded = self.embedding(start_tokens)\n",
        "  return start_tokens, done, self.rnn.get_initial_state(embedded)[0]"
      ]
    },
    {
      "cell_type": "code",
      "execution_count": null,
      "metadata": {
        "id": "DNApV83KCR_G"
      },
      "outputs": [],
      "source": [
        "@Decoder.add_method\n",
        "def tokens_to_text(self, tokens):\n",
        "  words = self.id_to_word(tokens)\n",
        "  result = tf.strings.reduce_join(words, axis=-1, separator=' ')\n",
        "  result = tf.strings.regex_replace(result, '^ *\\[START\\] *', '')\n",
        "  result = tf.strings.regex_replace(result, ' *\\[END\\] *$', '')\n",
        "  return result"
      ]
    },
    {
      "cell_type": "code",
      "execution_count": null,
      "metadata": {
        "id": "SHtz9evKCR_G"
      },
      "outputs": [],
      "source": [
        "@Decoder.add_method\n",
        "def get_next_token(self, context, next_token, done, state, temperature = 0.0):\n",
        "  logits, state = self(\n",
        "    context, next_token,\n",
        "    state = state,\n",
        "    return_state=True) \n",
        "\n",
        "  if temperature == 0.0:\n",
        "    next_token = tf.argmax(logits, axis=-1)\n",
        "  else:\n",
        "    logits = logits[:, -1, :]/temperature\n",
        "    next_token = tf.random.categorical(logits, num_samples=1)\n",
        "\n",
        "  # If a sequence produces an `end_token`, set it `done`\n",
        "  done = done | (next_token == self.end_token)\n",
        "  # Once a sequence is done it only produces 0-padding.\n",
        "  next_token = tf.where(done, tf.constant(0, dtype=tf.int64), next_token)\n",
        "\n",
        "  return next_token, done, state"
      ]
    },
    {
      "cell_type": "code",
      "execution_count": null,
      "metadata": {
        "id": "wdP_IRQ-CR_G",
        "outputId": "a86f1512-1c06-4b1b-8049-dea2ff3019db",
        "colab": {
          "base_uri": "https://localhost:8080/"
        }
      },
      "outputs": [
        {
          "output_type": "execute_result",
          "data": {
            "text/plain": [
              "array([b'ism restrict flavors ctel hung accession dried exhibit markham poorest',\n",
              "       b'essentially tribunal leaves temperate filets euromonitor medicine lasting avocados explorers',\n",
              "       b'fruits closing poland grey decline note wanted instituto fines tissueinformatics'],\n",
              "      dtype=object)"
            ]
          },
          "metadata": {},
          "execution_count": 58
        }
      ],
      "source": [
        "# Setup the loop variables.\n",
        "next_token, done, state = decoder.get_initial_state(ex_context)\n",
        "tokens = []\n",
        "\n",
        "for n in range(10):\n",
        "  # Run one step.\n",
        "  next_token, done, state = decoder.get_next_token(\n",
        "      ex_context, next_token, done, state, temperature=1.0)\n",
        "  # Add the token to the output.\n",
        "  tokens.append(next_token)\n",
        "\n",
        "# Stack all the tokens together.\n",
        "tokens = tf.concat(tokens, axis=-1) # (batch, t)\n",
        "\n",
        "# Convert the tokens back to a a string\n",
        "result = decoder.tokens_to_text(tokens)\n",
        "result[:3].numpy()"
      ]
    },
    {
      "cell_type": "code",
      "execution_count": null,
      "metadata": {
        "id": "uhkTwhcqCR_H"
      },
      "outputs": [],
      "source": [
        "class Translator(tf.keras.Model):\n",
        "  @classmethod\n",
        "  def add_method(cls, fun):\n",
        "    setattr(cls, fun.__name__, fun)\n",
        "    return fun\n",
        "\n",
        "  def __init__(self, units,\n",
        "               context_text_processor,\n",
        "               target_text_processor):\n",
        "    super().__init__()\n",
        "    # Build the encoder and decoder\n",
        "    encoder = Encoder(context_text_processor, units)\n",
        "    decoder = Decoder(target_text_processor, units)\n",
        "\n",
        "    self.encoder = encoder\n",
        "    self.decoder = decoder\n",
        "\n",
        "  def call(self, inputs):\n",
        "    context, x = inputs\n",
        "    context = self.encoder(context)\n",
        "    logits = self.decoder(context, x)\n",
        "\n",
        "    #TODO(b/250038731): remove this\n",
        "    try:\n",
        "      # Delete the keras mask, so keras doesn't scale the loss+accuracy. \n",
        "      del logits._keras_mask\n",
        "    except AttributeError:\n",
        "      pass\n",
        "\n",
        "    return logits"
      ]
    },
    {
      "cell_type": "code",
      "execution_count": null,
      "metadata": {
        "id": "-zbr_4nHCR_H",
        "outputId": "0c66f701-3f67-44b8-9086-0bab1614429d",
        "colab": {
          "base_uri": "https://localhost:8080/"
        }
      },
      "outputs": [
        {
          "output_type": "stream",
          "name": "stdout",
          "text": [
            "Context tokens, shape: (batch, s, units) (64, 74)\n",
            "Target tokens, shape: (batch, t) (64, 49)\n",
            "logits, shape: (batch, t, target_vocabulary_size) (64, 49, 10000)\n"
          ]
        }
      ],
      "source": [
        "model = Translator(UNITS, context_text_processor, target_text_processor)\n",
        "\n",
        "logits = model((ex_context_tok, ex_tar_in))\n",
        "\n",
        "print(f'Context tokens, shape: (batch, s, units) {ex_context_tok.shape}')\n",
        "print(f'Target tokens, shape: (batch, t) {ex_tar_in.shape}')\n",
        "print(f'logits, shape: (batch, t, target_vocabulary_size) {logits.shape}')"
      ]
    },
    {
      "cell_type": "code",
      "execution_count": null,
      "metadata": {
        "id": "sSW2wIi1CR_H"
      },
      "outputs": [],
      "source": [
        "def masked_loss(y_true, y_pred):\n",
        "    # Calculate the loss for each item in the batch.\n",
        "    loss_fn = tf.keras.losses.SparseCategoricalCrossentropy(\n",
        "        from_logits=True, reduction='none')\n",
        "    loss = loss_fn(y_true, y_pred)\n",
        "\n",
        "    # Mask off the losses on padding.\n",
        "    mask = tf.cast(y_true != 0, loss.dtype)\n",
        "    loss *= mask\n",
        "\n",
        "    # Return the total.\n",
        "    return tf.reduce_sum(loss)/tf.reduce_sum(mask)"
      ]
    },
    {
      "cell_type": "code",
      "execution_count": null,
      "metadata": {
        "id": "ZC4wiUf9CR_H"
      },
      "outputs": [],
      "source": [
        "def masked_acc(y_true, y_pred):\n",
        "    # Calculate the loss for each item in the batch.\n",
        "    y_pred = tf.argmax(y_pred, axis=-1)\n",
        "    y_pred = tf.cast(y_pred, y_true.dtype)\n",
        "\n",
        "    match = tf.cast(y_true == y_pred, tf.float32)\n",
        "    mask = tf.cast(y_true != 0, tf.float32)\n",
        "\n",
        "    return tf.reduce_sum(match)/tf.reduce_sum(mask)"
      ]
    },
    {
      "cell_type": "code",
      "execution_count": null,
      "metadata": {
        "id": "-PIeJUsiCR_O"
      },
      "outputs": [],
      "source": [
        "model.compile(optimizer='adam',\n",
        "              loss=masked_loss, \n",
        "              metrics=[masked_acc, masked_loss])"
      ]
    },
    {
      "cell_type": "code",
      "execution_count": null,
      "metadata": {
        "id": "VBkIxrJ3CR_P",
        "outputId": "3698ec8e-652e-4fc0-bf4b-3365fd719316",
        "colab": {
          "base_uri": "https://localhost:8080/"
        }
      },
      "outputs": [
        {
          "output_type": "execute_result",
          "data": {
            "text/plain": [
              "{'expected_loss': 9.2103405, 'expected_acc': 0.0001}"
            ]
          },
          "metadata": {},
          "execution_count": 64
        }
      ],
      "source": [
        "vocab_size = 1.0 * target_text_processor.vocabulary_size()\n",
        "\n",
        "{\"expected_loss\": tf.math.log(vocab_size).numpy(),\n",
        " \"expected_acc\": 1/vocab_size}"
      ]
    },
    {
      "cell_type": "code",
      "execution_count": null,
      "metadata": {
        "id": "y5EC-PekCR_P",
        "outputId": "805f1cf2-0c6a-4834-cf5a-805a92731973",
        "colab": {
          "base_uri": "https://localhost:8080/"
        }
      },
      "outputs": [
        {
          "output_type": "stream",
          "name": "stdout",
          "text": [
            "20/20 [==============================] - 9s 61ms/step - loss: 9.2209 - masked_acc: 7.5731e-05 - masked_loss: 9.2209\n"
          ]
        },
        {
          "output_type": "execute_result",
          "data": {
            "text/plain": [
              "{'loss': 9.220905303955078,\n",
              " 'masked_acc': 7.573133188998327e-05,\n",
              " 'masked_loss': 9.220905303955078}"
            ]
          },
          "metadata": {},
          "execution_count": 65
        }
      ],
      "source": [
        "model.evaluate(val_ds, steps=20, return_dict=True)"
      ]
    },
    {
      "cell_type": "code",
      "execution_count": null,
      "metadata": {
        "id": "FimgSigQCR_P",
        "colab": {
          "base_uri": "https://localhost:8080/"
        },
        "outputId": "91f0e574-bafc-47eb-b6ae-ebbb957a57c7"
      },
      "outputs": [
        {
          "output_type": "stream",
          "name": "stdout",
          "text": [
            "Epoch 1/100\n",
            "100/100 [==============================] - 54s 380ms/step - loss: 6.2604 - masked_acc: 0.1446 - masked_loss: 6.2604 - val_loss: 5.4795 - val_masked_acc: 0.2076 - val_masked_loss: 5.4795\n",
            "Epoch 2/100\n",
            "100/100 [==============================] - 27s 264ms/step - loss: 5.3696 - masked_acc: 0.2231 - masked_loss: 5.3696 - val_loss: 5.1015 - val_masked_acc: 0.2432 - val_masked_loss: 5.1015\n",
            "Epoch 3/100\n",
            "100/100 [==============================] - 20s 203ms/step - loss: 5.0047 - masked_acc: 0.2469 - masked_loss: 5.0047 - val_loss: 4.7986 - val_masked_acc: 0.2607 - val_masked_loss: 4.7986\n",
            "Epoch 4/100\n",
            "100/100 [==============================] - 18s 181ms/step - loss: 4.7387 - masked_acc: 0.2666 - masked_loss: 4.7387 - val_loss: 4.5861 - val_masked_acc: 0.2793 - val_masked_loss: 4.5861\n",
            "Epoch 5/100\n",
            "100/100 [==============================] - 14s 141ms/step - loss: 4.5168 - masked_acc: 0.2888 - masked_loss: 4.5168 - val_loss: 4.3622 - val_masked_acc: 0.3008 - val_masked_loss: 4.3622\n",
            "Epoch 6/100\n",
            "100/100 [==============================] - 16s 158ms/step - loss: 4.3490 - masked_acc: 0.3005 - masked_loss: 4.3490 - val_loss: 4.1996 - val_masked_acc: 0.3059 - val_masked_loss: 4.1996\n",
            "Epoch 7/100\n",
            "100/100 [==============================] - 16s 156ms/step - loss: 4.1958 - masked_acc: 0.3141 - masked_loss: 4.1958 - val_loss: 4.0724 - val_masked_acc: 0.3294 - val_masked_loss: 4.0724\n",
            "Epoch 8/100\n",
            "100/100 [==============================] - 16s 165ms/step - loss: 4.0661 - masked_acc: 0.3247 - masked_loss: 4.0661 - val_loss: 3.9510 - val_masked_acc: 0.3387 - val_masked_loss: 3.9510\n",
            "Epoch 9/100\n",
            "100/100 [==============================] - 14s 141ms/step - loss: 3.9118 - masked_acc: 0.3455 - masked_loss: 3.9118 - val_loss: 3.7923 - val_masked_acc: 0.3569 - val_masked_loss: 3.7923\n",
            "Epoch 10/100\n",
            "100/100 [==============================] - 14s 137ms/step - loss: 3.7287 - masked_acc: 0.3664 - masked_loss: 3.7286 - val_loss: 3.7149 - val_masked_acc: 0.3665 - val_masked_loss: 3.7149\n",
            "Epoch 11/100\n",
            "100/100 [==============================] - 14s 140ms/step - loss: 3.3573 - masked_acc: 0.3989 - masked_loss: 3.3573 - val_loss: 3.5979 - val_masked_acc: 0.3803 - val_masked_loss: 3.5979\n",
            "Epoch 12/100\n",
            "100/100 [==============================] - 14s 137ms/step - loss: 3.3055 - masked_acc: 0.4073 - masked_loss: 3.3055 - val_loss: 3.5759 - val_masked_acc: 0.3887 - val_masked_loss: 3.5759\n",
            "Epoch 13/100\n",
            "100/100 [==============================] - 15s 151ms/step - loss: 3.2857 - masked_acc: 0.4103 - masked_loss: 3.2857 - val_loss: 3.4667 - val_masked_acc: 0.4015 - val_masked_loss: 3.4667\n",
            "Epoch 14/100\n",
            "100/100 [==============================] - 13s 130ms/step - loss: 3.2113 - masked_acc: 0.4223 - masked_loss: 3.2113 - val_loss: 3.3239 - val_masked_acc: 0.4218 - val_masked_loss: 3.3239\n",
            "Epoch 15/100\n",
            "100/100 [==============================] - 13s 135ms/step - loss: 3.1772 - masked_acc: 0.4252 - masked_loss: 3.1772 - val_loss: 3.2952 - val_masked_acc: 0.4206 - val_masked_loss: 3.2952\n",
            "Epoch 16/100\n",
            "100/100 [==============================] - 13s 130ms/step - loss: 3.1131 - masked_acc: 0.4348 - masked_loss: 3.1131 - val_loss: 3.3775 - val_masked_acc: 0.4116 - val_masked_loss: 3.3775\n",
            "Epoch 17/100\n",
            "100/100 [==============================] - 16s 158ms/step - loss: 3.0835 - masked_acc: 0.4409 - masked_loss: 3.0835 - val_loss: 3.1416 - val_masked_acc: 0.4416 - val_masked_loss: 3.1416\n",
            "Epoch 18/100\n",
            "100/100 [==============================] - 12s 124ms/step - loss: 3.0355 - masked_acc: 0.4475 - masked_loss: 3.0355 - val_loss: 3.2553 - val_masked_acc: 0.4321 - val_masked_loss: 3.2553\n",
            "Epoch 19/100\n",
            "100/100 [==============================] - 14s 136ms/step - loss: 3.0285 - masked_acc: 0.4506 - masked_loss: 3.0285 - val_loss: 3.1708 - val_masked_acc: 0.4374 - val_masked_loss: 3.1708\n",
            "Epoch 20/100\n",
            "100/100 [==============================] - 12s 122ms/step - loss: 2.8307 - masked_acc: 0.4730 - masked_loss: 2.8309 - val_loss: 3.1311 - val_masked_acc: 0.4462 - val_masked_loss: 3.1311\n",
            "Epoch 21/100\n",
            "100/100 [==============================] - 13s 125ms/step - loss: 2.5093 - masked_acc: 0.5044 - masked_loss: 2.5093 - val_loss: 3.1046 - val_masked_acc: 0.4498 - val_masked_loss: 3.1046\n",
            "Epoch 22/100\n",
            "100/100 [==============================] - 15s 142ms/step - loss: 2.5548 - masked_acc: 0.5005 - masked_loss: 2.5548 - val_loss: 3.1347 - val_masked_acc: 0.4516 - val_masked_loss: 3.1347\n",
            "Epoch 23/100\n",
            "100/100 [==============================] - 13s 126ms/step - loss: 2.5628 - masked_acc: 0.4998 - masked_loss: 2.5628 - val_loss: 3.0464 - val_masked_acc: 0.4563 - val_masked_loss: 3.0464\n",
            "Epoch 24/100\n",
            "100/100 [==============================] - 13s 130ms/step - loss: 2.5660 - masked_acc: 0.5018 - masked_loss: 2.5660 - val_loss: 3.0293 - val_masked_acc: 0.4596 - val_masked_loss: 3.0293\n",
            "Epoch 25/100\n",
            "100/100 [==============================] - 12s 120ms/step - loss: 2.5538 - masked_acc: 0.5020 - masked_loss: 2.5538 - val_loss: 3.0831 - val_masked_acc: 0.4538 - val_masked_loss: 3.0831\n",
            "Epoch 26/100\n",
            "100/100 [==============================] - 16s 158ms/step - loss: 2.5896 - masked_acc: 0.4999 - masked_loss: 2.5896 - val_loss: 3.0332 - val_masked_acc: 0.4568 - val_masked_loss: 3.0332\n",
            "Epoch 27/100\n",
            "100/100 [==============================] - 13s 123ms/step - loss: 2.6180 - masked_acc: 0.4949 - masked_loss: 2.6180 - val_loss: 2.9736 - val_masked_acc: 0.4667 - val_masked_loss: 2.9736\n",
            "Epoch 28/100\n",
            "100/100 [==============================] - 12s 122ms/step - loss: 2.5873 - masked_acc: 0.5018 - masked_loss: 2.5873 - val_loss: 2.9303 - val_masked_acc: 0.4761 - val_masked_loss: 2.9303\n",
            "Epoch 29/100\n",
            "100/100 [==============================] - 13s 132ms/step - loss: 2.6004 - masked_acc: 0.5005 - masked_loss: 2.6004 - val_loss: 2.9954 - val_masked_acc: 0.4656 - val_masked_loss: 2.9954\n",
            "Epoch 30/100\n",
            "100/100 [==============================] - 15s 147ms/step - loss: 2.3232 - masked_acc: 0.5372 - masked_loss: 2.3239 - val_loss: 3.0362 - val_masked_acc: 0.4625 - val_masked_loss: 3.0362\n",
            "Epoch 31/100\n",
            "100/100 [==============================] - 14s 144ms/step - loss: 2.0894 - masked_acc: 0.5648 - masked_loss: 2.0894 - val_loss: 3.0224 - val_masked_acc: 0.4670 - val_masked_loss: 3.0224\n"
          ]
        }
      ],
      "source": [
        "history = model.fit(\n",
        "    train_ds.repeat(), \n",
        "    epochs=100,\n",
        "    steps_per_epoch = 100,\n",
        "    validation_data=val_ds,\n",
        "    validation_steps = 20,\n",
        "    callbacks=[\n",
        "        tf.keras.callbacks.EarlyStopping(patience=3)])"
      ]
    },
    {
      "cell_type": "code",
      "source": [
        "from google.colab import drive\n",
        "drive.mount('/content/drive')"
      ],
      "metadata": {
        "colab": {
          "base_uri": "https://localhost:8080/"
        },
        "id": "dqVBsCTWgaO-",
        "outputId": "0a92a22f-1f4a-4bac-a72e-41f1081e1692"
      },
      "execution_count": null,
      "outputs": [
        {
          "output_type": "stream",
          "name": "stdout",
          "text": [
            "Mounted at /content/drive\n"
          ]
        }
      ]
    },
    {
      "cell_type": "code",
      "source": [
        "plt.plot(history.history['loss'], label='loss')\n",
        "plt.plot(history.history['val_loss'], label='val_loss')\n",
        "plt.ylim([0, max(plt.ylim())])\n",
        "plt.xlabel('Epoch #')\n",
        "plt.ylabel('CE/token')\n",
        "plt.legend()"
      ],
      "metadata": {
        "colab": {
          "base_uri": "https://localhost:8080/",
          "height": 466
        },
        "id": "lDv7BvIiiZ-x",
        "outputId": "b0aeacfa-9f2f-4308-8629-34ee176b4777"
      },
      "execution_count": null,
      "outputs": [
        {
          "output_type": "execute_result",
          "data": {
            "text/plain": [
              "<matplotlib.legend.Legend at 0x7f30604b7130>"
            ]
          },
          "metadata": {},
          "execution_count": 71
        },
        {
          "output_type": "display_data",
          "data": {
            "text/plain": [
              "<Figure size 640x480 with 1 Axes>"
            ],
            "image/png": "[encoded data removed]"
          },
          "metadata": {}
        }
      ]
    },
    {
      "cell_type": "code",
      "source": [
        "plt.plot(history.history['masked_acc'], label='accuracy')\n",
        "plt.plot(history.history['val_masked_acc'], label='val_accuracy')\n",
        "plt.ylim([0, max(plt.ylim())])\n",
        "plt.xlabel('Epoch #')\n",
        "plt.ylabel('CE/token')\n",
        "plt.legend()"
      ],
      "metadata": {
        "colab": {
          "base_uri": "https://localhost:8080/",
          "height": 466
        },
        "id": "1tdpD9Zsi6_i",
        "outputId": "fcab788f-8b5a-49c1-ecb4-26e50f644ccf"
      },
      "execution_count": null,
      "outputs": [
        {
          "output_type": "execute_result",
          "data": {
            "text/plain": [
              "<matplotlib.legend.Legend at 0x7f30604ba020>"
            ]
          },
          "metadata": {},
          "execution_count": 72
        },
        {
          "output_type": "display_data",
          "data": {
            "text/plain": [
              "<Figure size 640x480 with 1 Axes>"
            ],
            "image/png": "[encoded data removed]"
          },
          "metadata": {}
        }
      ]
    },
    {
      "cell_type": "code",
      "source": [
        "@Translator.add_method\n",
        "def translate(self,\n",
        "              texts, *,\n",
        "              max_length=50,\n",
        "              temperature=0.0):\n",
        "  # Process the input texts\n",
        "  context = self.encoder.convert_input(texts)\n",
        "  batch_size = tf.shape(texts)[0]\n",
        "\n",
        "  # Setup the loop inputs\n",
        "  tokens = []\n",
        "  attention_weights = []\n",
        "  next_token, done, state = self.decoder.get_initial_state(context)\n",
        "\n",
        "  for _ in range(max_length):\n",
        "    # Generate the next token\n",
        "    next_token, done, state = self.decoder.get_next_token(\n",
        "        context, next_token, done,  state, temperature)\n",
        "\n",
        "    # Collect the generated tokens\n",
        "    tokens.append(next_token)\n",
        "    attention_weights.append(self.decoder.last_attention_weights)\n",
        "\n",
        "    if tf.executing_eagerly() and tf.reduce_all(done):\n",
        "      break\n",
        "\n",
        "  # Stack the lists of tokens and attention weights.\n",
        "  tokens = tf.concat(tokens, axis=-1)   # t*[(batch 1)] -> (batch, t)\n",
        "  self.last_attention_weights = tf.concat(attention_weights, axis=1)  # t*[(batch 1 s)] -> (batch, t s)\n",
        "\n",
        "  result = self.decoder.tokens_to_text(tokens)\n",
        "  return result"
      ],
      "metadata": {
        "id": "gQ18nx_Xi-wj"
      },
      "execution_count": null,
      "outputs": []
    },
    {
      "cell_type": "code",
      "source": [
        "result = model.translate([\"Pardon, excusez-moi\"]) # What is your name\n",
        "result[0].numpy().decode()"
      ],
      "metadata": {
        "colab": {
          "base_uri": "https://localhost:8080/",
          "height": 35
        },
        "id": "AaLOEeCZjCCS",
        "outputId": "f227cef5-ced6-4789-96b5-be7e2015e3db"
      },
      "execution_count": 82,
      "outputs": [
        {
          "output_type": "execute_result",
          "data": {
            "text/plain": [
              "'[UNK] , [UNK] '"
            ],
            "application/vnd.google.colaboratory.intrinsic+json": {
              "type": "string"
            }
          },
          "metadata": {},
          "execution_count": 82
        }
      ]
    },
    {
      "cell_type": "code",
      "source": [],
      "metadata": {
        "id": "_IP7rBO-jf40"
      },
      "execution_count": null,
      "outputs": []
    }
  ],
  "metadata": {
    "kernelspec": {
      "display_name": "Python 3",
      "name": "python3"
    },
    "language_info": {
      "codemirror_mode": {
        "name": "ipython",
        "version": 3
      },
      "file_extension": ".py",
      "mimetype": "text/x-python",
      "name": "python",
      "nbconvert_exporter": "python",
      "pygments_lexer": "ipython3",
      "version": "3.10.11"
    },
    "varInspector": {
      "cols": {
        "lenName": 16,
        "lenType": 16,
        "lenVar": 40
      },
      "kernels_config": {
        "python": {
          "delete_cmd_postfix": "",
          "delete_cmd_prefix": "del ",
          "library": "var_list.py",
          "varRefreshCmd": "print(var_dic_list())"
        },
        "r": {
          "delete_cmd_postfix": ") ",
          "delete_cmd_prefix": "rm(",
          "library": "var_list.r",
          "varRefreshCmd": "cat(var_dic_list()) "
        }
      },
      "types_to_exclude": [
        "module",
        "function",
        "builtin_function_or_method",
        "instance",
        "_Feature"
      ],
      "window_display": false
    },
    "colab": {
      "provenance": [],
      "gpuType": "T4",
      "include_colab_link": true
    },
    "accelerator": "GPU"
  },
  "nbformat": 4,
  "nbformat_minor": 0
}